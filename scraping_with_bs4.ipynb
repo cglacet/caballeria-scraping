{
 "cells": [
  {
   "cell_type": "code",
   "execution_count": 5,
   "metadata": {},
   "outputs": [
    {
     "data": {
      "text/plain": [
       "['Requirement already satisfied: beautifulsoup4 in /Users/cglacet/.pyenv/versions/3.8.0/lib/python3.8/site-packages (4.9.1)',\n",
       " 'Requirement already satisfied: soupsieve>1.2 in /Users/cglacet/.pyenv/versions/3.8.0/lib/python3.8/site-packages (from beautifulsoup4) (2.0.1)']"
      ]
     },
     "execution_count": 5,
     "metadata": {},
     "output_type": "execute_result"
    }
   ],
   "source": [
    "!!pip install beautifulsoup4"
   ]
  },
  {
   "cell_type": "code",
   "execution_count": 6,
   "metadata": {},
   "outputs": [],
   "source": [
    "from bs4 import BeautifulSoup\n",
    "import requests \n",
    "import pandas as pd\n",
    "\n",
    "ROOT_URL = 'https://rural-camping.com/france/'"
   ]
  },
  {
   "cell_type": "code",
   "execution_count": 9,
   "metadata": {},
   "outputs": [],
   "source": [
    "def places_pages_urls():\n",
    "    # 1) On récupère le code HTML (juste du texte) et on donne ça à BeautifulSoup :\n",
    "    response = requests.get(ROOT_URL + 'camping-map-france.htm')\n",
    "    html = BeautifulSoup(response.text)\n",
    "\n",
    "    # 2) On cherche les éléments dans la page, par exemple on peut \n",
    "    #    dire qu'on cherche les 'table' HTML qui appartiennent à 'ment'.\n",
    "    # (Les classes en HTML servent surtout à définir des groupes d'éléments \n",
    "    # pour appliquer un style au groupe.)\n",
    "    table = html.find('table', class_='ment')\n",
    "    for link in table.find_all('a'):\n",
    "        # Dès qu'on trouve un élément (lien dans ce cas), on peut accéder à ses propriétés). Nous on veut juste l'URL référencée par le lien (href) :\n",
    "        yield ROOT_URL + link.get('href')"
   ]
  },
  {
   "cell_type": "markdown",
   "metadata": {},
   "source": [
    "Avant d'écrire la suite on peut déjà tester que ça donne bien une liste d'URLs: "
   ]
  },
  {
   "cell_type": "code",
   "execution_count": 10,
   "metadata": {},
   "outputs": [
    {
     "name": "stdout",
     "output_type": "stream",
     "text": [
      "['https://rural-camping.com/france/index.htm#1', 'https://rural-camping.com/france/brittany-normandy.htm', 'https://rural-camping.com/france/northeast.htm', 'https://rural-camping.com/france/loire-burgundy.htm', 'https://rural-camping.com/france/limousin-auvergne.htm', 'https://rural-camping.com/france/southwest-france.htm', 'https://rural-camping.com/france/alps-jura.htm', 'https://rural-camping.com/france/south-france-midi.htm', 'https://rural-camping.com/france/midi-pyrenees.htm', 'https://rural-camping.com/france/south-france-midi.htm']\n"
     ]
    }
   ],
   "source": [
    "print(list(places_pages_urls()))"
   ]
  },
  {
   "cell_type": "code",
   "execution_count": 13,
   "metadata": {},
   "outputs": [],
   "source": [
    "# Maintenant on va utiliser cette fonction pour trouver les liens vers les locations : \n",
    "def place_info():\n",
    "    for place_page_url in places_pages_urls():\n",
    "        response = requests.get(place_page_url)\n",
    "        print(\"Request for page\", place_page_url)\n",
    "        html = BeautifulSoup(response.text)\n",
    "        # On cherche des items (li) dans des listes (ul),\n",
    "        # et dans chaque item on cherche un lien \n",
    "        for ul in html.find_all('ul'):\n",
    "            for li in ul.find_all('li'):\n",
    "                link = li.find('a')\n",
    "                # Si on a trouvé un lien on renvoie le lien et le texte autour \n",
    "                # (celui de l'item dans la liste)\n",
    "                if link:\n",
    "                    yield [li.get_text(), link.get('href')]"
   ]
  },
  {
   "cell_type": "code",
   "execution_count": 17,
   "metadata": {},
   "outputs": [
    {
     "name": "stdout",
     "output_type": "stream",
     "text": [
      "Request for page https://rural-camping.com/france/index.htm#1\n",
      "Request for page https://rural-camping.com/france/brittany-normandy.htm\n",
      "Request for page https://rural-camping.com/france/northeast.htm\n",
      "Request for page https://rural-camping.com/france/loire-burgundy.htm\n",
      "Request for page https://rural-camping.com/france/limousin-auvergne.htm\n",
      "Request for page https://rural-camping.com/france/southwest-france.htm\n",
      "Request for page https://rural-camping.com/france/alps-jura.htm\n",
      "Request for page https://rural-camping.com/france/south-france-midi.htm\n",
      "Request for page https://rural-camping.com/france/midi-pyrenees.htm\n",
      "Request for page https://rural-camping.com/france/south-france-midi.htm\n"
     ]
    }
   ],
   "source": [
    "df = pd.DataFrame(list(place_info()), columns=['text', 'link'])"
   ]
  },
  {
   "cell_type": "code",
   "execution_count": 18,
   "metadata": {},
   "outputs": [],
   "source": [
    "df.to_csv('rural-camping.csv', index=False)"
   ]
  }
 ],
 "metadata": {
  "kernelspec": {
   "display_name": "Python 3",
   "language": "python",
   "name": "python3"
  },
  "language_info": {
   "codemirror_mode": {
    "name": "ipython",
    "version": 3
   },
   "file_extension": ".py",
   "mimetype": "text/x-python",
   "name": "python",
   "nbconvert_exporter": "python",
   "pygments_lexer": "ipython3",
   "version": "3.8.0"
  }
 },
 "nbformat": 4,
 "nbformat_minor": 4
}
