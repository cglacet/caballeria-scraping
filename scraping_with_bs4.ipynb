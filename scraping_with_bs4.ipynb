{
 "cells": [
  {
   "cell_type": "code",
   "execution_count": 5,
   "metadata": {},
   "outputs": [
    {
     "data": {
      "text/plain": [
       "['Requirement already satisfied: beautifulsoup4 in /Users/cglacet/.pyenv/versions/3.8.0/lib/python3.8/site-packages (4.9.1)',\n",
       " 'Requirement already satisfied: soupsieve>1.2 in /Users/cglacet/.pyenv/versions/3.8.0/lib/python3.8/site-packages (from beautifulsoup4) (2.0.1)']"
      ]
     },
     "execution_count": 5,
     "metadata": {},
     "output_type": "execute_result"
    }
   ],
   "source": [
    "!!pip install beautifulsoup4"
   ]
  },
  {
   "cell_type": "code",
   "execution_count": 6,
   "metadata": {},
   "outputs": [],
   "source": [
    "from bs4 import BeautifulSoup\n",
    "import requests \n",
    "import pandas as pd\n",
    "\n",
    "ROOT_URL = 'https://rural-camping.com/france/'"
   ]
  },
  {
   "cell_type": "code",
   "execution_count": 9,
   "metadata": {},
   "outputs": [],
   "source": [
    "def places_pages_urls():\n",
    "    # 1) On récupère le code HTML (juste du texte) et on donne ça à BeautifulSoup :\n",
    "    response = requests.get(ROOT_URL + 'camping-map-france.htm')\n",
    "    html = BeautifulSoup(response.text)\n",
    "\n",
    "    # 2) On cherche les éléments dans la page, par exemple on peut \n",
    "    #    dire qu'on cherche les 'table' HTML qui appartiennent à 'ment'.\n",
    "    # (Les classes en HTML servent surtout à définir des groupes d'éléments \n",
    "    # pour appliquer un style au groupe.)\n",
    "    table = html.find('table', class_='ment')\n",
    "    for link in table.find_all('a'):\n",
    "        # Dès qu'on trouve un élément (lien dans ce cas), on peut accéder à ses propriétés). Nous on veut juste l'URL référencée par le lien (href) :\n",
    "        yield ROOT_URL + link.get('href')"
   ]
  },
  {
   "cell_type": "markdown",
   "metadata": {},
   "source": [
    "Avant d'écrire la suite on peut déjà tester que ça donne bien une liste d'URLs: "
   ]
  },
  {
   "cell_type": "code",
   "execution_count": 10,
   "metadata": {},
   "outputs": [
    {
     "name": "stdout",
     "output_type": "stream",
     "text": [
      "['https://rural-camping.com/france/index.htm#1', 'https://rural-camping.com/france/brittany-normandy.htm', 'https://rural-camping.com/france/northeast.htm', 'https://rural-camping.com/france/loire-burgundy.htm', 'https://rural-camping.com/france/limousin-auvergne.htm', 'https://rural-camping.com/france/southwest-france.htm', 'https://rural-camping.com/france/alps-jura.htm', 'https://rural-camping.com/france/south-france-midi.htm', 'https://rural-camping.com/france/midi-pyrenees.htm', 'https://rural-camping.com/france/south-france-midi.htm']\n"
     ]
    }
   ],
   "source": [
    "print(list(places_pages_urls()))"
   ]
  },
  {
   "cell_type": "code",
   "execution_count": 13,
   "metadata": {},
   "outputs": [],
   "source": [
    "# Maintenant on va utiliser cette fonction pour trouver les liens vers les locations : \n",
    "def place_info():\n",
    "    for place_page_url in places_pages_urls():\n",
    "        response = requests.get(place_page_url)\n",
    "        print(\"Request for page\", place_page_url)\n",
    "        html = BeautifulSoup(response.text)\n",
    "        # On cherche des items (li) dans des listes (ul),\n",
    "        # et dans chaque item on cherche un lien \n",
    "        for ul in html.find_all('ul'):\n",
    "            for li in ul.find_all('li'):\n",
    "                link = li.find('a')\n",
    "                # Si on a trouvé un lien on renvoie le lien et le texte autour \n",
    "                # (celui de l'item dans la liste)\n",
    "                if link:\n",
    "                    yield [li.get_text(), link.get('href')]"
   ]
  },
  {
   "cell_type": "code",
   "execution_count": 15,
   "metadata": {},
   "outputs": [
    {
     "name": "stdout",
     "output_type": "stream",
     "text": [
      "Request for page https://rural-camping.com/france/index.htm#1\n",
      "Request for page https://rural-camping.com/france/brittany-normandy.htm\n",
      "Request for page https://rural-camping.com/france/northeast.htm\n",
      "Request for page https://rural-camping.com/france/loire-burgundy.htm\n",
      "Request for page https://rural-camping.com/france/limousin-auvergne.htm\n",
      "Request for page https://rural-camping.com/france/southwest-france.htm\n",
      "Request for page https://rural-camping.com/france/alps-jura.htm\n",
      "Request for page https://rural-camping.com/france/south-france-midi.htm\n",
      "Request for page https://rural-camping.com/france/midi-pyrenees.htm\n",
      "Request for page https://rural-camping.com/france/south-france-midi.htm\n"
     ]
    },
    {
     "data": {
      "text/html": [
       "<div>\n",
       "<style scoped>\n",
       "    .dataframe tbody tr th:only-of-type {\n",
       "        vertical-align: middle;\n",
       "    }\n",
       "\n",
       "    .dataframe tbody tr th {\n",
       "        vertical-align: top;\n",
       "    }\n",
       "\n",
       "    .dataframe thead th {\n",
       "        text-align: right;\n",
       "    }\n",
       "</style>\n",
       "<table border=\"1\" class=\"dataframe\">\n",
       "  <thead>\n",
       "    <tr style=\"text-align: right;\">\n",
       "      <th></th>\n",
       "      <th>text</th>\n",
       "      <th>link</th>\n",
       "    </tr>\n",
       "  </thead>\n",
       "  <tbody>\n",
       "    <tr>\n",
       "      <th>0</th>\n",
       "      <td>Campsite in Camors\\nâ¦ (56\\r\\nMorbihan)  In ...</td>\n",
       "      <td>https://www.lepetitbois-camping.bzh/</td>\n",
       "    </tr>\n",
       "    <tr>\n",
       "      <th>1</th>\n",
       "      <td>Camping in\\r\\ncentral Brittany\\nâ¦ (56\\r\\nMo...</td>\n",
       "      <td>https://www.camping-des-cerisiers.fr</td>\n",
       "    </tr>\n",
       "    <tr>\n",
       "      <th>2</th>\n",
       "      <td>Camping in Morbihan\\nâ¦ (56\\r\\nMorbihan) In ...</td>\n",
       "      <td>http://en.camping-pontcalleck.fr/</td>\n",
       "    </tr>\n",
       "    <tr>\n",
       "      <th>3</th>\n",
       "      <td>Le\\r\\nBalcon de la Baie\\r\\n- â¦\\n(35 Ille et\\...</td>\n",
       "      <td>http://www.lebalcondelabaie.com/</td>\n",
       "    </tr>\n",
       "    <tr>\n",
       "      <th>4</th>\n",
       "      <td>La\\r\\nFerme de Croas Men\\r\\n-  (29 -\\r\\nFinist...</td>\n",
       "      <td>http://ferme-de-croasmen.com/</td>\n",
       "    </tr>\n",
       "    <tr>\n",
       "      <th>...</th>\n",
       "      <td>...</td>\n",
       "      <td>...</td>\n",
       "    </tr>\n",
       "    <tr>\n",
       "      <th>88</th>\n",
       "      <td>Eastern\\r\\nPyrenees ~\\r\\n(66 Eastern Pyrenees)...</td>\n",
       "      <td>http://www.solane.info/</td>\n",
       "    </tr>\n",
       "    <tr>\n",
       "      <th>89</th>\n",
       "      <td>Campsite\\r\\nin the Cevennes ~\\r\\n( 30 Gard) A ...</td>\n",
       "      <td>http://campinglabahou-anduze.c.la/</td>\n",
       "    </tr>\n",
       "    <tr>\n",
       "      <th>90</th>\n",
       "      <td>Campsite\\r\\nin\\r\\nrural Languedoc ~\\r\\nRustic,...</td>\n",
       "      <td>http://www.goudal.com/en</td>\n",
       "    </tr>\n",
       "    <tr>\n",
       "      <th>91</th>\n",
       "      <td>Campsite\\r\\nat the foot of the Cevennes (30 Ga...</td>\n",
       "      <td>https://www.camping-mascauvy.com/</td>\n",
       "    </tr>\n",
       "    <tr>\n",
       "      <th>92</th>\n",
       "      <td>Camping in\\r\\nCorsica (20 Northern Corsica)  I...</td>\n",
       "      <td>http://www.camping-ferme-l-aghja.com/</td>\n",
       "    </tr>\n",
       "  </tbody>\n",
       "</table>\n",
       "<p>93 rows × 2 columns</p>\n",
       "</div>"
      ],
      "text/plain": [
       "                                                 text  \\\n",
       "0    Campsite in Camors\\nâ¦ (56\\r\\nMorbihan)  In ...   \n",
       "1    Camping in\\r\\ncentral Brittany\\nâ¦ (56\\r\\nMo...   \n",
       "2    Camping in Morbihan\\nâ¦ (56\\r\\nMorbihan) In ...   \n",
       "3   Le\\r\\nBalcon de la Baie\\r\\n- â¦\\n(35 Ille et\\...   \n",
       "4   La\\r\\nFerme de Croas Men\\r\\n-  (29 -\\r\\nFinist...   \n",
       "..                                                ...   \n",
       "88  Eastern\\r\\nPyrenees ~\\r\\n(66 Eastern Pyrenees)...   \n",
       "89  Campsite\\r\\nin the Cevennes ~\\r\\n( 30 Gard) A ...   \n",
       "90  Campsite\\r\\nin\\r\\nrural Languedoc ~\\r\\nRustic,...   \n",
       "91  Campsite\\r\\nat the foot of the Cevennes (30 Ga...   \n",
       "92  Camping in\\r\\nCorsica (20 Northern Corsica)  I...   \n",
       "\n",
       "                                     link  \n",
       "0    https://www.lepetitbois-camping.bzh/  \n",
       "1    https://www.camping-des-cerisiers.fr  \n",
       "2       http://en.camping-pontcalleck.fr/  \n",
       "3        http://www.lebalcondelabaie.com/  \n",
       "4           http://ferme-de-croasmen.com/  \n",
       "..                                    ...  \n",
       "88                http://www.solane.info/  \n",
       "89     http://campinglabahou-anduze.c.la/  \n",
       "90               http://www.goudal.com/en  \n",
       "91      https://www.camping-mascauvy.com/  \n",
       "92  http://www.camping-ferme-l-aghja.com/  \n",
       "\n",
       "[93 rows x 2 columns]"
      ]
     },
     "execution_count": 15,
     "metadata": {},
     "output_type": "execute_result"
    }
   ],
   "source": [
    "pd.DataFrame(list(place_info()), columns=['text', 'link'])"
   ]
  },
  {
   "cell_type": "code",
   "execution_count": null,
   "metadata": {},
   "outputs": [],
   "source": []
  }
 ],
 "metadata": {
  "kernelspec": {
   "display_name": "Python 3",
   "language": "python",
   "name": "python3"
  },
  "language_info": {
   "codemirror_mode": {
    "name": "ipython",
    "version": 3
   },
   "file_extension": ".py",
   "mimetype": "text/x-python",
   "name": "python",
   "nbconvert_exporter": "python",
   "pygments_lexer": "ipython3",
   "version": "3.8.0"
  }
 },
 "nbformat": 4,
 "nbformat_minor": 4
}
